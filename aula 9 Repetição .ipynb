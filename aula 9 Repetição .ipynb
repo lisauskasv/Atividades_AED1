{
 "cells": [
  {
   "cell_type": "code",
   "execution_count": 2,
   "id": "12a32be5",
   "metadata": {},
   "outputs": [
    {
     "name": "stdout",
     "output_type": "stream",
     "text": [
      "Digite um número: 23\n",
      "É primo\n"
     ]
    }
   ],
   "source": [
    "n = int(input(\"Digite um número: \"))\n",
    "ehprimo = True \n",
    "i = 2\n",
    "while i < n:\n",
    "    if (n % i) == 0:\n",
    "        ehprimo = False\n",
    "    i = i + 1\n",
    "\n",
    "if ehprimo:\n",
    "    print(\"É primo\")\n",
    "else: \n",
    "    print(\"Não é primo\")"
   ]
  },
  {
   "cell_type": "code",
   "execution_count": null,
   "id": "5281d0cf",
   "metadata": {},
   "outputs": [],
   "source": []
  }
 ],
 "metadata": {
  "kernelspec": {
   "display_name": "Python 3 (ipykernel)",
   "language": "python",
   "name": "python3"
  },
  "language_info": {
   "codemirror_mode": {
    "name": "ipython",
    "version": 3
   },
   "file_extension": ".py",
   "mimetype": "text/x-python",
   "name": "python",
   "nbconvert_exporter": "python",
   "pygments_lexer": "ipython3",
   "version": "3.11.5"
  }
 },
 "nbformat": 4,
 "nbformat_minor": 5
}

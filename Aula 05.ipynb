{
 "cells": [
  {
   "cell_type": "code",
   "execution_count": 1,
   "id": "a0633461",
   "metadata": {},
   "outputs": [
    {
     "name": "stdout",
     "output_type": "stream",
     "text": [
      "Hello world!\n"
     ]
    }
   ],
   "source": [
    "print(\"Hello world!\")"
   ]
  },
  {
   "cell_type": "code",
   "execution_count": 4,
   "id": "35415c0f",
   "metadata": {},
   "outputs": [
    {
     "name": "stdout",
     "output_type": "stream",
     "text": [
      "Digite o valor do salário:25432.52\n",
      "O novo salário é : R$ 29323.70\n"
     ]
    }
   ],
   "source": [
    "sal = float(input('Digite o valor do salário:'))\n",
    "n_sal = sal * 1.153\n",
    "print(f'O novo salário é : R$ {n_sal:8.2f}')"
   ]
  },
  {
   "cell_type": "code",
   "execution_count": null,
   "id": "80d43e0a",
   "metadata": {},
   "outputs": [],
   "source": []
  }
 ],
 "metadata": {
  "kernelspec": {
   "display_name": "Python 3 (ipykernel)",
   "language": "python",
   "name": "python3"
  },
  "language_info": {
   "codemirror_mode": {
    "name": "ipython",
    "version": 3
   },
   "file_extension": ".py",
   "mimetype": "text/x-python",
   "name": "python",
   "nbconvert_exporter": "python",
   "pygments_lexer": "ipython3",
   "version": "3.11.5"
  }
 },
 "nbformat": 4,
 "nbformat_minor": 5
}

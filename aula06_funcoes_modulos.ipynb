{
 "cells": [
  {
   "cell_type": "code",
   "execution_count": 1,
   "id": "18bed7b0",
   "metadata": {},
   "outputs": [
    {
     "name": "stdout",
     "output_type": "stream",
     "text": [
      "90\n"
     ]
    }
   ],
   "source": [
    "x = -90\n",
    "print(abs(x))"
   ]
  },
  {
   "cell_type": "code",
   "execution_count": 2,
   "id": "e539bacf",
   "metadata": {},
   "outputs": [
    {
     "name": "stdout",
     "output_type": "stream",
     "text": [
      "-90\n"
     ]
    }
   ],
   "source": [
    "print(x)"
   ]
  },
  {
   "cell_type": "code",
   "execution_count": 3,
   "id": "8003e4b3",
   "metadata": {},
   "outputs": [],
   "source": [
    "# função ads demonstra o módulo do valor "
   ]
  },
  {
   "cell_type": "code",
   "execution_count": 4,
   "id": "6f0c9edc",
   "metadata": {},
   "outputs": [
    {
     "name": "stdout",
     "output_type": "stream",
     "text": [
      "A\n"
     ]
    }
   ],
   "source": [
    "print(chr(65))"
   ]
  },
  {
   "cell_type": "code",
   "execution_count": 5,
   "id": "d738132e",
   "metadata": {},
   "outputs": [],
   "source": [
    "# a função chr demonstra o caracter correspondente ao código explicitado entre parenteses, \n",
    "#em termos de tabela ASCH ou a qual estiver configurada na máquina por definição. "
   ]
  },
  {
   "cell_type": "code",
   "execution_count": 6,
   "id": "06aba655",
   "metadata": {},
   "outputs": [
    {
     "name": "stdout",
     "output_type": "stream",
     "text": [
      "65\n"
     ]
    }
   ],
   "source": [
    "print(ord(\"A\"))"
   ]
  },
  {
   "cell_type": "code",
   "execution_count": 7,
   "id": "b73da48a",
   "metadata": {},
   "outputs": [],
   "source": [
    "# a função reversa de chr é ord "
   ]
  },
  {
   "cell_type": "code",
   "execution_count": 9,
   "id": "2f0d2e8c",
   "metadata": {},
   "outputs": [],
   "source": [
    "import math"
   ]
  },
  {
   "cell_type": "code",
   "execution_count": 10,
   "id": "8d3ea7eb",
   "metadata": {},
   "outputs": [
    {
     "data": {
      "text/plain": [
       "16.0"
      ]
     },
     "execution_count": 10,
     "metadata": {},
     "output_type": "execute_result"
    }
   ],
   "source": [
    "math.pow(4, 2)"
   ]
  },
  {
   "cell_type": "code",
   "execution_count": 15,
   "id": "91990f49",
   "metadata": {},
   "outputs": [],
   "source": [
    "from math import pow, sqrt"
   ]
  },
  {
   "cell_type": "code",
   "execution_count": 12,
   "id": "bb59dbb5",
   "metadata": {},
   "outputs": [
    {
     "data": {
      "text/plain": [
       "125.0"
      ]
     },
     "execution_count": 12,
     "metadata": {},
     "output_type": "execute_result"
    }
   ],
   "source": [
    "pow(5, 3)"
   ]
  },
  {
   "cell_type": "code",
   "execution_count": 13,
   "id": "f356f444",
   "metadata": {},
   "outputs": [],
   "source": [
    "# importar toda a base pode sobrecarregar a memória, por isso é melhor importar dessa última forma"
   ]
  },
  {
   "cell_type": "code",
   "execution_count": 16,
   "id": "54bff21a",
   "metadata": {},
   "outputs": [
    {
     "data": {
      "text/plain": [
       "5.0"
      ]
     },
     "execution_count": 16,
     "metadata": {},
     "output_type": "execute_result"
    }
   ],
   "source": [
    "sqrt(25)"
   ]
  },
  {
   "cell_type": "code",
   "execution_count": 17,
   "id": "cb827afe",
   "metadata": {},
   "outputs": [],
   "source": [
    "# para limpar a memória, clicar em Kernel > Restart& Clear Output"
   ]
  },
  {
   "cell_type": "code",
   "execution_count": null,
   "id": "bca887ce",
   "metadata": {},
   "outputs": [],
   "source": []
  }
 ],
 "metadata": {
  "kernelspec": {
   "display_name": "Python 3 (ipykernel)",
   "language": "python",
   "name": "python3"
  },
  "language_info": {
   "codemirror_mode": {
    "name": "ipython",
    "version": 3
   },
   "file_extension": ".py",
   "mimetype": "text/x-python",
   "name": "python",
   "nbconvert_exporter": "python",
   "pygments_lexer": "ipython3",
   "version": "3.11.5"
  }
 },
 "nbformat": 4,
 "nbformat_minor": 5
}

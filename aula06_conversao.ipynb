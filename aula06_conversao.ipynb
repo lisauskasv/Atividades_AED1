{
 "cells": [
  {
   "cell_type": "code",
   "execution_count": 2,
   "id": "ab444c18",
   "metadata": {},
   "outputs": [],
   "source": [
    "x = 5\n",
    "y = 5.7\n",
    "z = \"67\"\n",
    "w = \"23.6\""
   ]
  },
  {
   "cell_type": "code",
   "execution_count": 3,
   "id": "cc3ef97b",
   "metadata": {},
   "outputs": [
    {
     "name": "stdout",
     "output_type": "stream",
     "text": [
      "5\n"
     ]
    }
   ],
   "source": [
    "inteiro = int(y)\n",
    "print(inteiro)"
   ]
  },
  {
   "cell_type": "code",
   "execution_count": 4,
   "id": "1d9ebd12",
   "metadata": {},
   "outputs": [
    {
     "name": "stdout",
     "output_type": "stream",
     "text": [
      "5\n"
     ]
    }
   ],
   "source": [
    "fraçao = float(x)\n",
    "print(inteiro)"
   ]
  },
  {
   "cell_type": "code",
   "execution_count": 5,
   "id": "2d16e853",
   "metadata": {},
   "outputs": [
    {
     "name": "stdout",
     "output_type": "stream",
     "text": [
      "67\n"
     ]
    }
   ],
   "source": [
    "inteiro = int(z)\n",
    "print(inteiro)"
   ]
  },
  {
   "cell_type": "code",
   "execution_count": 6,
   "id": "6a87ba3e",
   "metadata": {},
   "outputs": [
    {
     "name": "stdout",
     "output_type": "stream",
     "text": [
      "6723.6\n"
     ]
    }
   ],
   "source": [
    "soma = z + w \n",
    "print(soma)"
   ]
  },
  {
   "cell_type": "code",
   "execution_count": 7,
   "id": "7a42b024",
   "metadata": {},
   "outputs": [],
   "source": [
    "# em string, essa operação na vdd CONCATENA os termos inteiros"
   ]
  },
  {
   "cell_type": "code",
   "execution_count": 8,
   "id": "d16e329c",
   "metadata": {},
   "outputs": [
    {
     "name": "stdout",
     "output_type": "stream",
     "text": [
      "90.6\n"
     ]
    }
   ],
   "source": [
    "soma = int(z) + float(w)\n",
    "print(soma)"
   ]
  },
  {
   "cell_type": "code",
   "execution_count": 9,
   "id": "95b466ac",
   "metadata": {},
   "outputs": [
    {
     "data": {
      "text/plain": [
       "False"
      ]
     },
     "execution_count": 9,
     "metadata": {},
     "output_type": "execute_result"
    }
   ],
   "source": [
    "w.isdecimal()"
   ]
  },
  {
   "cell_type": "code",
   "execution_count": 10,
   "id": "efd9bb40",
   "metadata": {},
   "outputs": [
    {
     "ename": "ValueError",
     "evalue": "invalid literal for int() with base 10: '23.6'",
     "output_type": "error",
     "traceback": [
      "\u001b[1;31m---------------------------------------------------------------------------\u001b[0m",
      "\u001b[1;31mValueError\u001b[0m                                Traceback (most recent call last)",
      "Cell \u001b[1;32mIn[10], line 2\u001b[0m\n\u001b[0;32m      1\u001b[0m \u001b[38;5;28;01mif\u001b[39;00m \u001b[38;5;129;01mnot\u001b[39;00m (w\u001b[38;5;241m.\u001b[39misdecimal()):\n\u001b[1;32m----> 2\u001b[0m     \u001b[38;5;28mint\u001b[39m(w)\n\u001b[0;32m      3\u001b[0m \u001b[38;5;28;01melse\u001b[39;00m:\n\u001b[0;32m      4\u001b[0m     \u001b[38;5;28mfloat\u001b[39m(w)\n",
      "\u001b[1;31mValueError\u001b[0m: invalid literal for int() with base 10: '23.6'"
     ]
    }
   ],
   "source": [
    "if not (w.isdecimal()):\n",
    "    int(w)\n",
    "else:\n",
    "    float(w)"
   ]
  },
  {
   "cell_type": "code",
   "execution_count": 12,
   "id": "ba94644a",
   "metadata": {},
   "outputs": [
    {
     "name": "stdout",
     "output_type": "stream",
     "text": [
      "90.6\n",
      "<class 'str'>\n"
     ]
    },
    {
     "ename": "TypeError",
     "evalue": "can only concatenate str (not \"int\") to str",
     "output_type": "error",
     "traceback": [
      "\u001b[1;31m---------------------------------------------------------------------------\u001b[0m",
      "\u001b[1;31mTypeError\u001b[0m                                 Traceback (most recent call last)",
      "Cell \u001b[1;32mIn[12], line 4\u001b[0m\n\u001b[0;32m      2\u001b[0m \u001b[38;5;28mprint\u001b[39m(frase)\n\u001b[0;32m      3\u001b[0m \u001b[38;5;28mprint\u001b[39m(\u001b[38;5;28mtype\u001b[39m(frase))\n\u001b[1;32m----> 4\u001b[0m \u001b[38;5;28mprint\u001b[39m(frase \u001b[38;5;241m+\u001b[39m \u001b[38;5;241m5\u001b[39m)\n",
      "\u001b[1;31mTypeError\u001b[0m: can only concatenate str (not \"int\") to str"
     ]
    }
   ],
   "source": [
    "frase = str(soma)\n",
    "print(frase)\n",
    "print(type(frase))\n",
    "print(frase + 5)"
   ]
  },
  {
   "cell_type": "code",
   "execution_count": null,
   "id": "d947e380",
   "metadata": {},
   "outputs": [],
   "source": []
  }
 ],
 "metadata": {
  "kernelspec": {
   "display_name": "Python 3 (ipykernel)",
   "language": "python",
   "name": "python3"
  },
  "language_info": {
   "codemirror_mode": {
    "name": "ipython",
    "version": 3
   },
   "file_extension": ".py",
   "mimetype": "text/x-python",
   "name": "python",
   "nbconvert_exporter": "python",
   "pygments_lexer": "ipython3",
   "version": "3.11.5"
  }
 },
 "nbformat": 4,
 "nbformat_minor": 5
}
